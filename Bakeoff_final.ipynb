{
 "cells": [
  {
   "cell_type": "code",
   "execution_count": 1,
   "metadata": {},
   "outputs": [],
   "source": [
    "# import all libraries etc.\n",
    "import pandas as pd\n",
    "import numpy as np\n",
    "import matplotlib.pyplot as plt\n",
    "import seaborn as sns\n",
    "import json\n",
    "import requests\n",
    "import statsmodels.api as sm\n",
    "import statsmodels.stats.api as sms\n",
    "import scipy.stats as stats\n",
    "%matplotlib inline\n",
    "from sklearn.feature_selection import RFE\n",
    "from sklearn.linear_model import LinearRegression\n",
    "from sklearn.metrics import mean_squared_error\n",
    "from sklearn.preprocessing import PolynomialFeatures\n",
    "from sklearn.model_selection import train_test_split\n",
    "from sklearn.preprocessing import StandardScaler\n",
    "from sklearn.model_selection import cross_validate\n",
    "from sklearn.metrics import mean_squared_error\n",
    "import warnings"
   ]
  },
  {
   "cell_type": "code",
   "execution_count": 2,
   "metadata": {},
   "outputs": [],
   "source": [
    "pd.set_option('display.max_columns', 300)\n",
    "pd.set_option('display.float_format', lambda x: '%.2f' % x)\n",
    "warnings.filterwarnings(\"ignore\")"
   ]
  },
  {
   "cell_type": "code",
   "execution_count": 3,
   "metadata": {},
   "outputs": [],
   "source": [
    "data = pd.read_csv(\"data/Xtrain.csv\")\n",
    "y = pd.read_csv('data/ytrain.csv')\n",
    "\n",
    "test = pd.read_csv('data/Xtest.csv')"
   ]
  },
  {
   "cell_type": "code",
   "execution_count": 4,
   "metadata": {},
   "outputs": [],
   "source": [
    "######for train dataset\n",
    "sqft_basement_list= []\n",
    "for num in data['sqft_basement'].values:\n",
    "    if num == '?':\n",
    "        sqft_basement_list.append(np.nan)\n",
    "    else:\n",
    "        sqft_basement_list.append(float(num))\n",
    "data['sqft_basement']= sqft_basement_list\n",
    "#cleaning year renovated        \n",
    "data['yr_renovated'] = data['yr_renovated'].fillna(0).astype(int)\n",
    "data['yr_renovated'] = np.where(data['yr_renovated'] == 0, data['yr_built'], data['yr_renovated'])\n",
    "\n",
    "#waterfron cleaning\n",
    "data['waterfront'].replace(np.nan, 0, inplace =True)\n",
    "\n",
    "#view col cleaning\n",
    "data['view'].replace(np.nan, 0 , inplace =True)\n",
    "\n",
    "#basement\n",
    "data['sqft_basement'].fillna(0, inplace= True)\n",
    "\n",
    "#one house has a 33 bedroom house to 3:\n",
    "data['bedrooms'].replace(33, 3, inplace=True)\n",
    "\n",
    "\n",
    "\n",
    "\n",
    "\n",
    "######for test data\n",
    "sqft_basement_list2= []\n",
    "for num in test['sqft_basement'].values:\n",
    "    if num == '?':\n",
    "        sqft_basement_list2.append(np.nan)\n",
    "    else:\n",
    "        sqft_basement_list2.append(float(num))\n",
    "test['sqft_basement']= sqft_basement_list2\n",
    "#cleaning year renovated        \n",
    "test['yr_renovated'] = test['yr_renovated'].fillna(0).astype(int)\n",
    "test['yr_renovated'] = np.where(test['yr_renovated'] == 0, test['yr_built'], test['yr_renovated'])\n",
    "\n",
    "\n",
    "#waterfron cleaning\n",
    "test['waterfront'].replace(np.nan, 0, inplace =True)\n",
    "#view col cleaning\n",
    "test['view'].replace(np.nan, 0 , inplace =True)\n",
    "\n",
    "#basement\n",
    "test['sqft_basement'].fillna(0, inplace= True)\n",
    "\n",
    "#one house has a 33 bedroom house to 3:\n",
    "test['bedrooms'].replace(33, 3, inplace=True)\n"
   ]
  },
  {
   "cell_type": "code",
   "execution_count": 5,
   "metadata": {},
   "outputs": [],
   "source": [
    "#########Dummying grade for train###########\n",
    "grade_origin= data['grade']\n",
    "df_dummy_grade= pd.get_dummies(grade_origin, drop_first= True) #avoid dummy trap\n",
    "data = pd.concat([df_dummy_grade, data], axis=1)\n",
    "\n",
    "#renaming the new Columns\n",
    "#grade\n",
    "mapper = {4:'Grade_4', 5: 'Grade_5', 6:'Grade_6',7:'Grade_7',\n",
    "          8:'Grade_8',9:'Grade_9',10:'Grade_10', 11:'Grade_11',12:'Grade_12',13:'Grade_13'} \n",
    "data.rename(mapper=mapper, axis=1, inplace= True)\n",
    "\n",
    "\n",
    "\n",
    "\n",
    "############Dummying grade for test###########\n",
    "grade_origin2= test['grade']\n",
    "df_dummy_grade2= pd.get_dummies(grade_origin2, drop_first= False) #avoid dummy trap\n",
    "test = pd.concat([df_dummy_grade2, test], axis=1)\n",
    "\n",
    "#renaming the new Columns\n",
    "#grade\n",
    "mapper2 = {4:'Grade_4', 5: 'Grade_5', 6:'Grade_6',7:'Grade_7',\n",
    "          8:'Grade_8',9:'Grade_9',10:'Grade_10', 11:'Grade_11',12:'Grade_12',13:'Grade_13'} \n",
    "test.rename(mapper=mapper2, axis=1, inplace= True)"
   ]
  },
  {
   "cell_type": "code",
   "execution_count": 6,
   "metadata": {},
   "outputs": [],
   "source": [
    "#making dummy for condition for train\n",
    "condition_origin= data['condition']\n",
    "df_cond_dum=pd.get_dummies(condition_origin, drop_first=True)\n",
    "data= pd.concat([df_cond_dum, data], axis=1)\n",
    "\n",
    "mapper3 = {1:'Condition_1',2:'Condition_2',3:'Condition_3',4:'Condition_4',5:'Condition_5'}\n",
    "data.rename(mapper=mapper3, axis=1, inplace=True)\n",
    "\n",
    "\n",
    "\n",
    "#dummy condition for test\n",
    "condition_origin2= test['condition']\n",
    "df_cond_dum2=pd.get_dummies(condition_origin2, drop_first=True)\n",
    "test= pd.concat([df_cond_dum2, test], axis=1)\n",
    "\n",
    "mapper3 = {1:'Condition_1',2:'Condition_2',3:'Condition_3',4:'Condition_4',5:'Condition_5'}\n",
    "test.rename(mapper=mapper3, axis=1, inplace=True)"
   ]
  },
  {
   "cell_type": "code",
   "execution_count": 7,
   "metadata": {},
   "outputs": [],
   "source": [
    "# adding some interactions\n",
    "data['age'] = 2021 - data['yr_built']\n",
    "\n",
    "#decided to combine Bath and Bedroom into a ratio (Bed:Bath) since its a commonly used metric fpr real estate\n",
    "\n",
    "data['bed:bath'] = data['bedrooms']/data['bathrooms']\n",
    "\n",
    "data = data.loc[:,~data.columns.duplicated()]"
   ]
  },
  {
   "cell_type": "code",
   "execution_count": 8,
   "metadata": {},
   "outputs": [],
   "source": [
    "#Dummying the zip train\n",
    "zip_origin= data['zipcode']\n",
    "df_zip= pd.get_dummies(zip_origin, drop_first= True)\n",
    "data = pd.concat([df_zip, data], axis=1)\n",
    "\n",
    "data = data.drop('zipcode',axis = 1)\n",
    "\n",
    "\n",
    "#dummy the zip test\n",
    "zip_origin2= test['zipcode']\n",
    "df_zip2= pd.get_dummies(zip_origin2, drop_first= True)\n",
    "test = pd.concat([df_zip2, test], axis=1)\n",
    "\n",
    "test = test.drop('zipcode',axis = 1)\n",
    "\n"
   ]
  },
  {
   "cell_type": "code",
   "execution_count": 9,
   "metadata": {},
   "outputs": [],
   "source": [
    "# adding some interactions train\n",
    "data['age'] = 2021 - data['yr_built']\n",
    "\n",
    "#decided to combine Bath and Bedroom into a ratio (Bed:Bath) since its a commonly used metric fpr real estate\n",
    "\n",
    "data['bed:bath'] = data['bedrooms']/data['bathrooms']\n",
    "\n",
    "data = data.loc[:,~data.columns.duplicated()]\n",
    "\n",
    "\n",
    "\n",
    "\n",
    "# adding some interactions test\n",
    "test['age'] = 2021 - test['yr_built']\n",
    "\n",
    "#decided to combine Bath and Bedroom into a ratio (Bed:Bath) since its a commonly used metric fpr real estate\n",
    "\n",
    "test['bed:bath'] = test['bedrooms']/test['bathrooms']\n",
    "\n",
    "test = test.loc[:,~test.columns.duplicated()]"
   ]
  },
  {
   "cell_type": "code",
   "execution_count": 10,
   "metadata": {},
   "outputs": [],
   "source": [
    "#drop test\n",
    "data.drop(['view', 'grade', 'bedrooms', 'bathrooms', 'condition', 'yr_renovated'], axis=1, inplace=True)\n",
    "\n",
    "#drop train\n",
    "test.drop(['view', 'grade', 'bedrooms', 'bathrooms', 'condition', 'yr_renovated'], axis=1, inplace=True)"
   ]
  },
  {
   "cell_type": "code",
   "execution_count": 11,
   "metadata": {},
   "outputs": [],
   "source": [
    "\n",
    "#drop test\n",
    "data = data.drop(['Grade_13', 'sqft_above', \"yr_built\",'date'], axis=1)\n",
    "\n",
    "#drop train\n",
    "test = test.drop(['Grade_13', 'sqft_above', \"yr_built\",'date'], axis=1)\n"
   ]
  },
  {
   "cell_type": "code",
   "execution_count": 12,
   "metadata": {},
   "outputs": [
    {
     "data": {
      "text/html": [
       "<div>\n",
       "<style scoped>\n",
       "    .dataframe tbody tr th:only-of-type {\n",
       "        vertical-align: middle;\n",
       "    }\n",
       "\n",
       "    .dataframe tbody tr th {\n",
       "        vertical-align: top;\n",
       "    }\n",
       "\n",
       "    .dataframe thead th {\n",
       "        text-align: right;\n",
       "    }\n",
       "</style>\n",
       "<table border=\"1\" class=\"dataframe\">\n",
       "  <thead>\n",
       "    <tr style=\"text-align: right;\">\n",
       "      <th></th>\n",
       "      <th>price</th>\n",
       "    </tr>\n",
       "  </thead>\n",
       "  <tbody>\n",
       "    <tr>\n",
       "      <th>0</th>\n",
       "      <td>529000.00</td>\n",
       "    </tr>\n",
       "    <tr>\n",
       "      <th>1</th>\n",
       "      <td>253000.00</td>\n",
       "    </tr>\n",
       "    <tr>\n",
       "      <th>2</th>\n",
       "      <td>745000.00</td>\n",
       "    </tr>\n",
       "    <tr>\n",
       "      <th>3</th>\n",
       "      <td>545000.00</td>\n",
       "    </tr>\n",
       "    <tr>\n",
       "      <th>4</th>\n",
       "      <td>390000.00</td>\n",
       "    </tr>\n",
       "    <tr>\n",
       "      <th>...</th>\n",
       "      <td>...</td>\n",
       "    </tr>\n",
       "    <tr>\n",
       "      <th>16192</th>\n",
       "      <td>440000.00</td>\n",
       "    </tr>\n",
       "    <tr>\n",
       "      <th>16193</th>\n",
       "      <td>572000.00</td>\n",
       "    </tr>\n",
       "    <tr>\n",
       "      <th>16194</th>\n",
       "      <td>299800.00</td>\n",
       "    </tr>\n",
       "    <tr>\n",
       "      <th>16195</th>\n",
       "      <td>245000.00</td>\n",
       "    </tr>\n",
       "    <tr>\n",
       "      <th>16196</th>\n",
       "      <td>545000.00</td>\n",
       "    </tr>\n",
       "  </tbody>\n",
       "</table>\n",
       "<p>16197 rows × 1 columns</p>\n",
       "</div>"
      ],
      "text/plain": [
       "          price\n",
       "0     529000.00\n",
       "1     253000.00\n",
       "2     745000.00\n",
       "3     545000.00\n",
       "4     390000.00\n",
       "...         ...\n",
       "16192 440000.00\n",
       "16193 572000.00\n",
       "16194 299800.00\n",
       "16195 245000.00\n",
       "16196 545000.00\n",
       "\n",
       "[16197 rows x 1 columns]"
      ]
     },
     "execution_count": 12,
     "metadata": {},
     "output_type": "execute_result"
    }
   ],
   "source": [
    "x_train = data\n",
    "y"
   ]
  },
  {
   "cell_type": "code",
   "execution_count": 13,
   "metadata": {},
   "outputs": [],
   "source": [
    "lr = LinearRegression()"
   ]
  },
  {
   "cell_type": "code",
   "execution_count": 14,
   "metadata": {},
   "outputs": [],
   "source": [
    "scores_simple = cross_validate(\n",
    "                    lr, x_train, y, cv=5, \n",
    "                    return_train_score=True)"
   ]
  },
  {
   "cell_type": "code",
   "execution_count": 15,
   "metadata": {},
   "outputs": [
    {
     "name": "stdout",
     "output_type": "stream",
     "text": [
      "0.8261355890673305\n"
     ]
    }
   ],
   "source": [
    "lr.fit(x_train, y)\n",
    "print(lr.score(x_train, y))"
   ]
  },
  {
   "cell_type": "code",
   "execution_count": 16,
   "metadata": {},
   "outputs": [],
   "source": [
    "y_hat_train = lr.predict(x_train)"
   ]
  },
  {
   "cell_type": "code",
   "execution_count": 17,
   "metadata": {},
   "outputs": [
    {
     "name": "stdout",
     "output_type": "stream",
     "text": [
      "Train Mean Error: 152750.24369515275\n"
     ]
    }
   ],
   "source": [
    "train_mse = mean_squared_error(y, y_hat_train, squared =False)\n",
    "print('Train Mean Error:', train_mse)"
   ]
  },
  {
   "cell_type": "code",
   "execution_count": 18,
   "metadata": {},
   "outputs": [],
   "source": [
    "y_hat_test = lr.predict(test)"
   ]
  },
  {
   "cell_type": "code",
   "execution_count": 19,
   "metadata": {},
   "outputs": [
    {
     "data": {
      "text/plain": [
       "array([[ 161969.66073395],\n",
       "       [ 540938.07934476],\n",
       "       [ 340080.70554999],\n",
       "       ...,\n",
       "       [1332158.36617207],\n",
       "       [1349228.88117586],\n",
       "       [ 178439.84196886]])"
      ]
     },
     "execution_count": 19,
     "metadata": {},
     "output_type": "execute_result"
    }
   ],
   "source": [
    "y_hat_test"
   ]
  },
  {
   "cell_type": "code",
   "execution_count": 20,
   "metadata": {},
   "outputs": [],
   "source": [
    "y_test_fake = np.full((5400,1), 0)"
   ]
  },
  {
   "cell_type": "code",
   "execution_count": 21,
   "metadata": {},
   "outputs": [
    {
     "data": {
      "text/plain": [
       "0.0"
      ]
     },
     "execution_count": 21,
     "metadata": {},
     "output_type": "execute_result"
    }
   ],
   "source": [
    "from sklearn.metrics import r2_score\n",
    "\n",
    "# fake predictions using the mean of y_train.\n",
    "y_hat_test = np.full((5400,1), np.mean(y))\n",
    "\n",
    "r2_score(y_hat_test, y_test_fake)"
   ]
  },
  {
   "cell_type": "code",
   "execution_count": 22,
   "metadata": {},
   "outputs": [
    {
     "data": {
      "text/plain": [
       "5400"
      ]
     },
     "execution_count": 22,
     "metadata": {},
     "output_type": "execute_result"
    }
   ],
   "source": [
    "len(y_hat_test)"
   ]
  },
  {
   "cell_type": "code",
   "execution_count": 23,
   "metadata": {},
   "outputs": [],
   "source": [
    "np.savetxt('Group2_bakeoff.csv', y_hat_test, delimiter=',',header = 'price_estimate')"
   ]
  },
  {
   "cell_type": "code",
   "execution_count": 24,
   "metadata": {},
   "outputs": [
    {
     "name": "stdout",
     "output_type": "stream",
     "text": [
      "Bakeoff.ipynb        README.md            student.ipynb\r\n",
      "Bakeoff_final.ipynb  Untitled.ipynb       test-el.ipynb\r\n",
      "Group2_bakeoff.csv   \u001b[34mdata\u001b[m\u001b[m/\r\n",
      "PROJ2_updated.ipynb  \u001b[34mpicture\u001b[m\u001b[m/\r\n"
     ]
    }
   ],
   "source": [
    "ls"
   ]
  },
  {
   "cell_type": "code",
   "execution_count": 25,
   "metadata": {},
   "outputs": [
    {
     "data": {
      "text/plain": [
       "(5400, 1)"
      ]
     },
     "execution_count": 25,
     "metadata": {},
     "output_type": "execute_result"
    }
   ],
   "source": [
    "y_hat_test.shape"
   ]
  },
  {
   "cell_type": "code",
   "execution_count": 26,
   "metadata": {},
   "outputs": [],
   "source": [
    "df = pd.read_csv(\"Group2_bakeoff.csv\")"
   ]
  },
  {
   "cell_type": "code",
   "execution_count": 27,
   "metadata": {},
   "outputs": [
    {
     "data": {
      "text/html": [
       "<div>\n",
       "<style scoped>\n",
       "    .dataframe tbody tr th:only-of-type {\n",
       "        vertical-align: middle;\n",
       "    }\n",
       "\n",
       "    .dataframe tbody tr th {\n",
       "        vertical-align: top;\n",
       "    }\n",
       "\n",
       "    .dataframe thead th {\n",
       "        text-align: right;\n",
       "    }\n",
       "</style>\n",
       "<table border=\"1\" class=\"dataframe\">\n",
       "  <thead>\n",
       "    <tr style=\"text-align: right;\">\n",
       "      <th></th>\n",
       "      <th># price_estimate</th>\n",
       "    </tr>\n",
       "  </thead>\n",
       "  <tbody>\n",
       "    <tr>\n",
       "      <th>0</th>\n",
       "      <td>541284.46</td>\n",
       "    </tr>\n",
       "    <tr>\n",
       "      <th>1</th>\n",
       "      <td>541284.46</td>\n",
       "    </tr>\n",
       "    <tr>\n",
       "      <th>2</th>\n",
       "      <td>541284.46</td>\n",
       "    </tr>\n",
       "    <tr>\n",
       "      <th>3</th>\n",
       "      <td>541284.46</td>\n",
       "    </tr>\n",
       "    <tr>\n",
       "      <th>4</th>\n",
       "      <td>541284.46</td>\n",
       "    </tr>\n",
       "    <tr>\n",
       "      <th>...</th>\n",
       "      <td>...</td>\n",
       "    </tr>\n",
       "    <tr>\n",
       "      <th>5395</th>\n",
       "      <td>541284.46</td>\n",
       "    </tr>\n",
       "    <tr>\n",
       "      <th>5396</th>\n",
       "      <td>541284.46</td>\n",
       "    </tr>\n",
       "    <tr>\n",
       "      <th>5397</th>\n",
       "      <td>541284.46</td>\n",
       "    </tr>\n",
       "    <tr>\n",
       "      <th>5398</th>\n",
       "      <td>541284.46</td>\n",
       "    </tr>\n",
       "    <tr>\n",
       "      <th>5399</th>\n",
       "      <td>541284.46</td>\n",
       "    </tr>\n",
       "  </tbody>\n",
       "</table>\n",
       "<p>5400 rows × 1 columns</p>\n",
       "</div>"
      ],
      "text/plain": [
       "      # price_estimate\n",
       "0            541284.46\n",
       "1            541284.46\n",
       "2            541284.46\n",
       "3            541284.46\n",
       "4            541284.46\n",
       "...                ...\n",
       "5395         541284.46\n",
       "5396         541284.46\n",
       "5397         541284.46\n",
       "5398         541284.46\n",
       "5399         541284.46\n",
       "\n",
       "[5400 rows x 1 columns]"
      ]
     },
     "execution_count": 27,
     "metadata": {},
     "output_type": "execute_result"
    }
   ],
   "source": [
    "df"
   ]
  },
  {
   "cell_type": "code",
   "execution_count": null,
   "metadata": {},
   "outputs": [],
   "source": []
  }
 ],
 "metadata": {
  "kernelspec": {
   "display_name": "Python (learn-env)",
   "language": "python",
   "name": "learn-env"
  },
  "language_info": {
   "codemirror_mode": {
    "name": "ipython",
    "version": 3
   },
   "file_extension": ".py",
   "mimetype": "text/x-python",
   "name": "python",
   "nbconvert_exporter": "python",
   "pygments_lexer": "ipython3",
   "version": "3.8.5"
  }
 },
 "nbformat": 4,
 "nbformat_minor": 4
}
